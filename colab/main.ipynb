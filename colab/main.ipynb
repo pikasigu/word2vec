# jupyter notebook のテスト

#%%
import datetime, time

def main():
  for count in range(0, 10):
    print_current_time()
    time.sleep(1)

def print_current_time():
  print (datetime.datetime.now().strftime('%Y/%m/%d %H:%M:%S'))

if __name__ == '__main__':
  main()
