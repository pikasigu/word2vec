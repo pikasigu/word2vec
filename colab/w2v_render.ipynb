{
  "nbformat": 4,
  "nbformat_minor": 0,
  "metadata": {
    "colab": {
      "name": "w2v_render.ipynb",
      "version": "0.3.2",
      "provenance": [],
      "toc_visible": true
    },
    "kernelspec": {
      "name": "python3",
      "display_name": "Python 3"
    }
  },
  "cells": [
    {
      "cell_type": "markdown",
      "metadata": {
        "id": "HBJsBZdMKUVp",
        "colab_type": "text"
      },
      "source": [
        "# 結果の出力\n",
        "- modelDataの読み込み\n",
        "## Google Drive\n",
        "- Google Driveに保存してあるデータを引っ張ってくる\n",
        "- 認証(マウント)が必要"
      ]
    },
    {
      "cell_type": "code",
      "metadata": {
        "id": "2FJzA2oqLP2W",
        "colab_type": "code",
        "colab": {
          "base_uri": "https://localhost:8080/",
          "height": 122
        },
        "outputId": "02abeceb-839b-4ab1-aafe-d8aa589fbb20"
      },
      "source": [
        "from google.colab import drive\n",
        "drive.mount('/content/drive')\n"
      ],
      "execution_count": 2,
      "outputs": [
        {
          "output_type": "stream",
          "text": [
            "Go to this URL in a browser: https://accounts.google.com/o/oauth2/auth?client_id=947318989803-6bn6qk8qdgf4n4g3pfee6491hc0brc4i.apps.googleusercontent.com&redirect_uri=urn%3Aietf%3Awg%3Aoauth%3A2.0%3Aoob&scope=email%20https%3A%2F%2Fwww.googleapis.com%2Fauth%2Fdocs.test%20https%3A%2F%2Fwww.googleapis.com%2Fauth%2Fdrive%20https%3A%2F%2Fwww.googleapis.com%2Fauth%2Fdrive.photos.readonly%20https%3A%2F%2Fwww.googleapis.com%2Fauth%2Fpeopleapi.readonly&response_type=code\n",
            "\n",
            "Enter your authorization code:\n",
            "··········\n",
            "Mounted at /content/drive\n"
          ],
          "name": "stdout"
        }
      ]
    },
    {
      "cell_type": "code",
      "metadata": {
        "id": "8d2-eORXKgvX",
        "colab_type": "code",
        "colab": {
          "base_uri": "https://localhost:8080/",
          "height": 2422
        },
        "outputId": "1b119169-23f6-4075-e671-69887ebdc3c0"
      },
      "source": [
        "from gensim.models import word2vec\n",
        "\n",
        "# model import\n",
        "print(\"input model path\")\n",
        "model_path = input()\n",
        "model = word2vec.Word2Vec.load(model_path)\n",
        "# results\n",
        "print(\"Input word\")\n",
        "word = input()\n",
        "while word != \"\":\n",
        "    results = model.wv.most_similar(positive=word)\n",
        "    print(\"------------------\")\n",
        "    print(\"most similar words\")\n",
        "    for result in results:\n",
        "        print(result)\n",
        "    print(\"------------------\")\n",
        "    print(\"Input word\")\n",
        "    word = input()"
      ],
      "execution_count": 6,
      "outputs": [
        {
          "output_type": "stream",
          "text": [
            "input model path\n",
            "/content/drive/My Drive/Google Colab/Date/model/nhk.model\n",
            "Input word\n",
            "ニュース\n"
          ],
          "name": "stdout"
        },
        {
          "output_type": "stream",
          "text": [
            "/usr/local/lib/python3.6/dist-packages/gensim/matutils.py:737: FutureWarning: Conversion of the second argument of issubdtype from `int` to `np.signedinteger` is deprecated. In future, it will be treated as `np.int64 == np.dtype(int).type`.\n",
            "  if np.issubdtype(vec.dtype, np.int):\n"
          ],
          "name": "stderr"
        },
        {
          "output_type": "stream",
          "text": [
            "------------------\n",
            "most similar words\n",
            "('ウオッチ', 0.416051983833313)\n",
            "('番組', 0.3689935803413391)\n",
            "('放送', 0.33664655685424805)\n",
            "('ＢＳ', 0.3335142135620117)\n",
            "('テレビ朝日', 0.3276498019695282)\n",
            "('バラエティー', 0.31025347113609314)\n",
            "('各局', 0.30674171447753906)\n",
            "('キャスター', 0.2915215492248535)\n",
            "('テレビ', 0.2828240394592285)\n",
            "('速報', 0.2803283631801605)\n",
            "------------------\n",
            "Input word\n",
            "政治\n",
            "------------------\n",
            "most similar words\n",
            "('規正', 0.41988977789878845)\n",
            "('食い違っ', 0.37959519028663635)\n",
            "('後援', 0.37933847308158875)\n",
            "('観劇', 0.37433120608329773)\n",
            "('カネ', 0.37339332699775696)\n",
            "('香典', 0.3621412515640259)\n",
            "('スキャンダル', 0.35188359022140503)\n",
            "('資金', 0.34874027967453003)\n",
            "('道義', 0.34296536445617676)\n",
            "('献金', 0.32307857275009155)\n",
            "------------------\n",
            "Input word\n",
            "神社\n",
            "------------------\n",
            "most similar words\n",
            "('本殿', 0.4545798897743225)\n",
            "('繁盛', 0.43411749601364136)\n",
            "('奉納', 0.4243793189525604)\n",
            "('初詣', 0.4219978451728821)\n",
            "('商売', 0.41734611988067627)\n",
            "('境内', 0.41169074177742004)\n",
            "('稲荷', 0.4099672734737396)\n",
            "('土俵入り', 0.3996826112270355)\n",
            "('みこし', 0.398235946893692)\n",
            "('秋祭り', 0.39613696932792664)\n",
            "------------------\n",
            "Input word\n",
            "大学\n",
            "------------------\n",
            "most similar words\n",
            "('バカンティ', 0.41436317563056946)\n",
            "('バード', 0.3934378921985626)\n",
            "('教授', 0.39094287157058716)\n",
            "('宏一', 0.37231993675231934)\n",
            "('学部', 0.36600756645202637)\n",
            "('チャールズ', 0.36252883076667786)\n",
            "('ハー', 0.35415926575660706)\n",
            "('駒沢大', 0.3496871888637543)\n",
            "('入試', 0.34715574979782104)\n",
            "('上智大学', 0.3381827175617218)\n",
            "------------------\n",
            "Input word\n",
            "結果\n",
            "------------------\n",
            "most similar words\n",
            "('日本医科大学', 0.27732571959495544)\n",
            "('まとまり', 0.27108216285705566)\n",
            "('調査', 0.25481081008911133)\n",
            "('検体', 0.23948508501052856)\n",
            "('シミュレーション', 0.23790296912193298)\n",
            "('低かっ', 0.23529711365699768)\n",
            "('覆し', 0.23481115698814392)\n",
            "('残せ', 0.23306149244308472)\n",
            "('ベンゼン', 0.22438834607601166)\n",
            "('的中', 0.22299420833587646)\n",
            "------------------\n",
            "Input word\n",
            "報道\n",
            "------------------\n",
            "most similar words\n",
            "('瑩', 0.4413850009441376)\n",
            "('磊', 0.4359273910522461)\n",
            "('洪', 0.38342413306236267)\n",
            "('サキ', 0.3575184941291809)\n",
            "('官', 0.3410111367702484)\n",
            "('国務省', 0.3308209180831909)\n",
            "('チョ・テヨン', 0.3090944290161133)\n",
            "('カーニー', 0.2963043749332428)\n",
            "('越智', 0.2775780260562897)\n",
            "('スクープ', 0.2737387418746948)\n",
            "------------------\n",
            "Input word\n",
            "猫\n",
            "------------------\n",
            "most similar words\n",
            "('駅長', 0.4592262804508209)\n",
            "('死骸', 0.4457501173019409)\n",
            "('たま', 0.44346722960472107)\n",
            "('首輪', 0.4147726893424988)\n",
            "('飼っ', 0.38491883873939514)\n",
            "('犬', 0.3694117069244385)\n",
            "('飼い主', 0.3382301330566406)\n",
            "('ペット', 0.32391366362571716)\n",
            "('荒らし', 0.3151039779186249)\n",
            "('媒体', 0.31464171409606934)\n",
            "------------------\n",
            "Input word\n"
          ],
          "name": "stdout"
        },
        {
          "output_type": "error",
          "ename": "KeyboardInterrupt",
          "evalue": "ignored",
          "traceback": [
            "\u001b[0;31m---------------------------------------------------------------------------\u001b[0m",
            "\u001b[0;31mKeyboardInterrupt\u001b[0m                         Traceback (most recent call last)",
            "\u001b[0;32m/usr/local/lib/python3.6/dist-packages/ipykernel/kernelbase.py\u001b[0m in \u001b[0;36m_input_request\u001b[0;34m(self, prompt, ident, parent, password)\u001b[0m\n\u001b[1;32m    729\u001b[0m             \u001b[0;32mtry\u001b[0m\u001b[0;34m:\u001b[0m\u001b[0;34m\u001b[0m\u001b[0;34m\u001b[0m\u001b[0m\n\u001b[0;32m--> 730\u001b[0;31m                 \u001b[0mident\u001b[0m\u001b[0;34m,\u001b[0m \u001b[0mreply\u001b[0m \u001b[0;34m=\u001b[0m \u001b[0mself\u001b[0m\u001b[0;34m.\u001b[0m\u001b[0msession\u001b[0m\u001b[0;34m.\u001b[0m\u001b[0mrecv\u001b[0m\u001b[0;34m(\u001b[0m\u001b[0mself\u001b[0m\u001b[0;34m.\u001b[0m\u001b[0mstdin_socket\u001b[0m\u001b[0;34m,\u001b[0m \u001b[0;36m0\u001b[0m\u001b[0;34m)\u001b[0m\u001b[0;34m\u001b[0m\u001b[0;34m\u001b[0m\u001b[0m\n\u001b[0m\u001b[1;32m    731\u001b[0m             \u001b[0;32mexcept\u001b[0m \u001b[0mException\u001b[0m\u001b[0;34m:\u001b[0m\u001b[0;34m\u001b[0m\u001b[0;34m\u001b[0m\u001b[0m\n",
            "\u001b[0;32m/usr/local/lib/python3.6/dist-packages/jupyter_client/session.py\u001b[0m in \u001b[0;36mrecv\u001b[0;34m(self, socket, mode, content, copy)\u001b[0m\n\u001b[1;32m    802\u001b[0m         \u001b[0;32mtry\u001b[0m\u001b[0;34m:\u001b[0m\u001b[0;34m\u001b[0m\u001b[0;34m\u001b[0m\u001b[0m\n\u001b[0;32m--> 803\u001b[0;31m             \u001b[0mmsg_list\u001b[0m \u001b[0;34m=\u001b[0m \u001b[0msocket\u001b[0m\u001b[0;34m.\u001b[0m\u001b[0mrecv_multipart\u001b[0m\u001b[0;34m(\u001b[0m\u001b[0mmode\u001b[0m\u001b[0;34m,\u001b[0m \u001b[0mcopy\u001b[0m\u001b[0;34m=\u001b[0m\u001b[0mcopy\u001b[0m\u001b[0;34m)\u001b[0m\u001b[0;34m\u001b[0m\u001b[0;34m\u001b[0m\u001b[0m\n\u001b[0m\u001b[1;32m    804\u001b[0m         \u001b[0;32mexcept\u001b[0m \u001b[0mzmq\u001b[0m\u001b[0;34m.\u001b[0m\u001b[0mZMQError\u001b[0m \u001b[0;32mas\u001b[0m \u001b[0me\u001b[0m\u001b[0;34m:\u001b[0m\u001b[0;34m\u001b[0m\u001b[0;34m\u001b[0m\u001b[0m\n",
            "\u001b[0;32m/usr/local/lib/python3.6/dist-packages/zmq/sugar/socket.py\u001b[0m in \u001b[0;36mrecv_multipart\u001b[0;34m(self, flags, copy, track)\u001b[0m\n\u001b[1;32m    465\u001b[0m         \"\"\"\n\u001b[0;32m--> 466\u001b[0;31m         \u001b[0mparts\u001b[0m \u001b[0;34m=\u001b[0m \u001b[0;34m[\u001b[0m\u001b[0mself\u001b[0m\u001b[0;34m.\u001b[0m\u001b[0mrecv\u001b[0m\u001b[0;34m(\u001b[0m\u001b[0mflags\u001b[0m\u001b[0;34m,\u001b[0m \u001b[0mcopy\u001b[0m\u001b[0;34m=\u001b[0m\u001b[0mcopy\u001b[0m\u001b[0;34m,\u001b[0m \u001b[0mtrack\u001b[0m\u001b[0;34m=\u001b[0m\u001b[0mtrack\u001b[0m\u001b[0;34m)\u001b[0m\u001b[0;34m]\u001b[0m\u001b[0;34m\u001b[0m\u001b[0;34m\u001b[0m\u001b[0m\n\u001b[0m\u001b[1;32m    467\u001b[0m         \u001b[0;31m# have first part already, only loop while more to receive\u001b[0m\u001b[0;34m\u001b[0m\u001b[0;34m\u001b[0m\u001b[0;34m\u001b[0m\u001b[0m\n",
            "\u001b[0;32mzmq/backend/cython/socket.pyx\u001b[0m in \u001b[0;36mzmq.backend.cython.socket.Socket.recv\u001b[0;34m()\u001b[0m\n",
            "\u001b[0;32mzmq/backend/cython/socket.pyx\u001b[0m in \u001b[0;36mzmq.backend.cython.socket.Socket.recv\u001b[0;34m()\u001b[0m\n",
            "\u001b[0;32mzmq/backend/cython/socket.pyx\u001b[0m in \u001b[0;36mzmq.backend.cython.socket._recv_copy\u001b[0;34m()\u001b[0m\n",
            "\u001b[0;32m/usr/local/lib/python3.6/dist-packages/zmq/backend/cython/checkrc.pxd\u001b[0m in \u001b[0;36mzmq.backend.cython.checkrc._check_rc\u001b[0;34m()\u001b[0m\n",
            "\u001b[0;31mKeyboardInterrupt\u001b[0m: ",
            "\nDuring handling of the above exception, another exception occurred:\n",
            "\u001b[0;31mKeyboardInterrupt\u001b[0m                         Traceback (most recent call last)",
            "\u001b[0;32m<ipython-input-6-c86fdfc9c0e2>\u001b[0m in \u001b[0;36m<module>\u001b[0;34m()\u001b[0m\n\u001b[1;32m     16\u001b[0m     \u001b[0mprint\u001b[0m\u001b[0;34m(\u001b[0m\u001b[0;34m\"------------------\"\u001b[0m\u001b[0;34m)\u001b[0m\u001b[0;34m\u001b[0m\u001b[0;34m\u001b[0m\u001b[0m\n\u001b[1;32m     17\u001b[0m     \u001b[0mprint\u001b[0m\u001b[0;34m(\u001b[0m\u001b[0;34m\"Input word\"\u001b[0m\u001b[0;34m)\u001b[0m\u001b[0;34m\u001b[0m\u001b[0;34m\u001b[0m\u001b[0m\n\u001b[0;32m---> 18\u001b[0;31m     \u001b[0mword\u001b[0m \u001b[0;34m=\u001b[0m \u001b[0minput\u001b[0m\u001b[0;34m(\u001b[0m\u001b[0;34m)\u001b[0m\u001b[0;34m\u001b[0m\u001b[0;34m\u001b[0m\u001b[0m\n\u001b[0m",
            "\u001b[0;32m/usr/local/lib/python3.6/dist-packages/ipykernel/kernelbase.py\u001b[0m in \u001b[0;36mraw_input\u001b[0;34m(self, prompt)\u001b[0m\n\u001b[1;32m    703\u001b[0m             \u001b[0mself\u001b[0m\u001b[0;34m.\u001b[0m\u001b[0m_parent_ident\u001b[0m\u001b[0;34m,\u001b[0m\u001b[0;34m\u001b[0m\u001b[0;34m\u001b[0m\u001b[0m\n\u001b[1;32m    704\u001b[0m             \u001b[0mself\u001b[0m\u001b[0;34m.\u001b[0m\u001b[0m_parent_header\u001b[0m\u001b[0;34m,\u001b[0m\u001b[0;34m\u001b[0m\u001b[0;34m\u001b[0m\u001b[0m\n\u001b[0;32m--> 705\u001b[0;31m             \u001b[0mpassword\u001b[0m\u001b[0;34m=\u001b[0m\u001b[0;32mFalse\u001b[0m\u001b[0;34m,\u001b[0m\u001b[0;34m\u001b[0m\u001b[0;34m\u001b[0m\u001b[0m\n\u001b[0m\u001b[1;32m    706\u001b[0m         )\n\u001b[1;32m    707\u001b[0m \u001b[0;34m\u001b[0m\u001b[0m\n",
            "\u001b[0;32m/usr/local/lib/python3.6/dist-packages/ipykernel/kernelbase.py\u001b[0m in \u001b[0;36m_input_request\u001b[0;34m(self, prompt, ident, parent, password)\u001b[0m\n\u001b[1;32m    733\u001b[0m             \u001b[0;32mexcept\u001b[0m \u001b[0mKeyboardInterrupt\u001b[0m\u001b[0;34m:\u001b[0m\u001b[0;34m\u001b[0m\u001b[0;34m\u001b[0m\u001b[0m\n\u001b[1;32m    734\u001b[0m                 \u001b[0;31m# re-raise KeyboardInterrupt, to truncate traceback\u001b[0m\u001b[0;34m\u001b[0m\u001b[0;34m\u001b[0m\u001b[0;34m\u001b[0m\u001b[0m\n\u001b[0;32m--> 735\u001b[0;31m                 \u001b[0;32mraise\u001b[0m \u001b[0mKeyboardInterrupt\u001b[0m\u001b[0;34m\u001b[0m\u001b[0;34m\u001b[0m\u001b[0m\n\u001b[0m\u001b[1;32m    736\u001b[0m             \u001b[0;32melse\u001b[0m\u001b[0;34m:\u001b[0m\u001b[0;34m\u001b[0m\u001b[0;34m\u001b[0m\u001b[0m\n\u001b[1;32m    737\u001b[0m                 \u001b[0;32mbreak\u001b[0m\u001b[0;34m\u001b[0m\u001b[0;34m\u001b[0m\u001b[0m\n",
            "\u001b[0;31mKeyboardInterrupt\u001b[0m: "
          ]
        }
      ]
    },
    {
      "cell_type": "code",
      "metadata": {
        "id": "iPBIEhkGV-aM",
        "colab_type": "code",
        "colab": {
          "base_uri": "https://localhost:8080/",
          "height": 1669
        },
        "outputId": "3b74bdb7-1768-4a44-e974-09828d746b74"
      },
      "source": [
        "from gensim.models import word2vec\n",
        "\n",
        "# model import\n",
        "print(\"input model path\")\n",
        "model_path = input()\n",
        "model = word2vec.Word2Vec.load(model_path)\n",
        "# results\n",
        "print(\"Input word\")\n",
        "word = input()\n",
        "while word != \"\":\n",
        "    results = model.wv.most_similar(positive=word)\n",
        "    print(\"------------------\")\n",
        "    print(\"most similar words\")\n",
        "    for result in results:\n",
        "        print(result)\n",
        "    print(\"------------------\")\n",
        "    print(\"Input word\")\n",
        "    word = input()"
      ],
      "execution_count": 7,
      "outputs": [
        {
          "output_type": "stream",
          "text": [
            "input model path\n",
            "/content/drive/My Drive/Google Colab/Date/model/nhknews_model_small.model\n",
            "Input word\n",
            "ニュース\n"
          ],
          "name": "stdout"
        },
        {
          "output_type": "stream",
          "text": [
            "/usr/local/lib/python3.6/dist-packages/gensim/matutils.py:737: FutureWarning: Conversion of the second argument of issubdtype from `int` to `np.signedinteger` is deprecated. In future, it will be treated as `np.int64 == np.dtype(int).type`.\n",
            "  if np.issubdtype(vec.dtype, np.int):\n"
          ],
          "name": "stderr"
        },
        {
          "output_type": "stream",
          "text": [
            "------------------\n",
            "most similar words\n",
            "('ウオッチ', 0.4485713839530945)\n",
            "('放送', 0.43488144874572754)\n",
            "('番組', 0.4269748628139496)\n",
            "('ＢＳ', 0.3754187226295471)\n",
            "('各局', 0.3589659035205841)\n",
            "('テレビ', 0.35563698410987854)\n",
            "('民放', 0.3369431793689728)\n",
            "('テレビ朝日', 0.33053338527679443)\n",
            "('ラジオ', 0.33034810423851013)\n",
            "('手記', 0.31455379724502563)\n",
            "------------------\n",
            "Input word\n",
            "政治\n",
            "------------------\n",
            "most similar words\n",
            "('規正', 0.4803289473056793)\n",
            "('資金', 0.45551517605781555)\n",
            "('観劇', 0.4487273693084717)\n",
            "('道義', 0.4248843491077423)\n",
            "('後援', 0.41764482855796814)\n",
            "('カネ', 0.41073569655418396)\n",
            "('食い違っ', 0.407195508480072)\n",
            "('献金', 0.4039362072944641)\n",
            "('香典', 0.4015352129936218)\n",
            "('スキャンダル', 0.3949779272079468)\n",
            "------------------\n",
            "Input word\n",
            "神社\n",
            "------------------\n",
            "most similar words\n",
            "('本殿', 0.4834253489971161)\n",
            "('奉納', 0.47843456268310547)\n",
            "('繁盛', 0.4781776964664459)\n",
            "('初詣', 0.47518330812454224)\n",
            "('境内', 0.47070011496543884)\n",
            "('商売', 0.45388972759246826)\n",
            "('五穀豊じょう', 0.4481081962585449)\n",
            "('稲荷', 0.4421772062778473)\n",
            "('土俵入り', 0.43652069568634033)\n",
            "('みこし', 0.43412548303604126)\n",
            "------------------\n",
            "Input word\n",
            "大学\n",
            "------------------\n",
            "most similar words\n",
            "('教授', 0.4611549377441406)\n",
            "('バカンティ', 0.4451756775379181)\n",
            "('学部', 0.4405766427516937)\n",
            "('バード', 0.42387697100639343)\n",
            "('宏一', 0.4166127145290375)\n",
            "('駒沢大', 0.41330885887145996)\n",
            "('大学院', 0.40127527713775635)\n",
            "('チャールズ', 0.40105730295181274)\n",
            "('講義', 0.400922566652298)\n",
            "('明治大学', 0.39920929074287415)\n",
            "------------------\n",
            "Input word\n",
            "結果\n",
            "------------------\n",
            "most similar words\n",
            "('調査', 0.33777183294296265)\n",
            "('日本医科大学', 0.3236638307571411)\n",
            "('まとまり', 0.31843388080596924)\n",
            "('報告', 0.29911160469055176)\n",
            "('行っ', 0.28823235630989075)\n",
            "('検査', 0.2869728207588196)\n",
            "('精度', 0.28608909249305725)\n",
            "('シミュレーション', 0.2837618887424469)\n",
            "('公表', 0.28336456418037415)\n",
            "('ＰＴＳＤ', 0.28181391954421997)\n",
            "------------------\n",
            "Input word\n",
            "猫\n",
            "------------------\n",
            "most similar words\n",
            "('死骸', 0.4824684262275696)\n",
            "('駅長', 0.46889007091522217)\n",
            "('たま', 0.44302481412887573)\n",
            "('首輪', 0.4316140115261078)\n",
            "('飼っ', 0.4190948009490967)\n",
            "('犬', 0.4074656069278717)\n",
            "('ペット', 0.37437814474105835)\n",
            "('飼い主', 0.3456173241138458)\n",
            "('匹', 0.3384207487106323)\n",
            "('両手', 0.33571285009384155)\n",
            "------------------\n",
            "Input word\n",
            "\n"
          ],
          "name": "stdout"
        }
      ]
    }
  ]
}