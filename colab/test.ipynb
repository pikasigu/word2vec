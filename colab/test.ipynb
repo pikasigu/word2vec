{
 "cells": [
  {
   "cell_type": "code",
   "execution_count": 5,
   "metadata": {},
   "outputs": [
    {
     "name": "stdout",
     "output_type": "stream",
     "text": [
      "2019/05/22 19:15:23\n",
      "2019/05/22 19:15:24\n",
      "2019/05/22 19:15:25\n",
      "2019/05/22 19:15:26\n",
      "2019/05/22 19:15:27\n",
      "2019/05/22 19:15:28\n",
      "2019/05/22 19:15:29\n",
      "2019/05/22 19:15:30\n",
      "2019/05/22 19:15:31\n",
      "2019/05/22 19:15:32\n"
     ]
    }
   ],
   "source": [
    "import datetime\n",
    "import time\n",
    "\n",
    "\n",
    "def main():\n",
    "    for count in range(0, 10):\n",
    "        print_current_time()\n",
    "        time.sleep(1)\n",
    "\n",
    "\n",
    "def print_current_time():\n",
    "    print(datetime.datetime.now().strftime('%Y/%m/%d %H:%M:%S'))\n",
    "\n",
    "\n",
    "if __name__ == '__main__':\n",
    "    main()\n"
   ]
  },
  {
   "cell_type": "code",
   "execution_count": 6,
   "metadata": {},
   "outputs": [],
   "source": []
  }
 ],
 "metadata": {
  "file_extension": ".py",
  "kernelspec": {
   "display_name": "Python 3",
   "language": "python",
   "name": "python3"
  },
  "language_info": {
   "codemirror_mode": {
    "name": "ipython",
    "version": 3
   },
   "file_extension": ".py",
   "mimetype": "text/x-python",
   "name": "python",
   "nbconvert_exporter": "python",
   "pygments_lexer": "ipython3",
   "version": "3.6.5"
  },
  "mimetype": "text/x-python",
  "name": "python",
  "npconvert_exporter": "python",
  "pygments_lexer": "ipython3",
  "version": 3
 },
 "nbformat": 4,
 "nbformat_minor": 2
}
